{
 "cells": [
  {
   "cell_type": "markdown",
   "metadata": {},
   "source": [
    "# Project 08. Song Challenge"
   ]
  },
  {
   "cell_type": "code",
   "execution_count": 2,
   "metadata": {},
   "outputs": [],
   "source": [
    "import json\n",
    "\n",
    "import numpy as np\n",
    "import pandas as pd\n",
    "import matplotlib.pyplot as plt\n",
    "\n",
    "from sklearn.preprocessing import normalize\n"
   ]
  },
  {
   "cell_type": "markdown",
   "metadata": {},
   "source": [
    "# Table of Contents\n",
    "  1. [Read Data](#readdata)"
   ]
  },
  {
   "cell_type": "markdown",
   "metadata": {},
   "source": [
    "<a id='read_data'></a>\n",
    "## Read Data"
   ]
  },
  {
   "cell_type": "code",
   "execution_count": 3,
   "metadata": {},
   "outputs": [
    {
     "data": {
      "text/html": [
       "<div>\n",
       "<style scoped>\n",
       "    .dataframe tbody tr th:only-of-type {\n",
       "        vertical-align: middle;\n",
       "    }\n",
       "\n",
       "    .dataframe tbody tr th {\n",
       "        vertical-align: top;\n",
       "    }\n",
       "\n",
       "    .dataframe thead th {\n",
       "        text-align: right;\n",
       "    }\n",
       "</style>\n",
       "<table border=\"1\" class=\"dataframe\">\n",
       "  <thead>\n",
       "    <tr style=\"text-align: right;\">\n",
       "      <th></th>\n",
       "      <th>id</th>\n",
       "      <th>user_id</th>\n",
       "      <th>user_state</th>\n",
       "      <th>user_sign_up_date</th>\n",
       "      <th>song_played</th>\n",
       "      <th>time_played</th>\n",
       "    </tr>\n",
       "  </thead>\n",
       "  <tbody>\n",
       "    <tr>\n",
       "      <th>0</th>\n",
       "      <td>GOQMMKSQQH</td>\n",
       "      <td>122</td>\n",
       "      <td>Louisiana</td>\n",
       "      <td>2015-05-16</td>\n",
       "      <td>Hey Jude</td>\n",
       "      <td>2015-06-11 21:51:35</td>\n",
       "    </tr>\n",
       "    <tr>\n",
       "      <th>1</th>\n",
       "      <td>HWKKBQKNWI</td>\n",
       "      <td>3</td>\n",
       "      <td>Ohio</td>\n",
       "      <td>2015-05-01</td>\n",
       "      <td>We Can Work It Out</td>\n",
       "      <td>2015-06-06 16:49:19</td>\n",
       "    </tr>\n",
       "    <tr>\n",
       "      <th>2</th>\n",
       "      <td>DKQSXVNJDH</td>\n",
       "      <td>35</td>\n",
       "      <td>New Jersey</td>\n",
       "      <td>2015-05-04</td>\n",
       "      <td>Back In the U.S.S.R.</td>\n",
       "      <td>2015-06-14 02:11:29</td>\n",
       "    </tr>\n",
       "    <tr>\n",
       "      <th>3</th>\n",
       "      <td>HLHRIDQTUW</td>\n",
       "      <td>126</td>\n",
       "      <td>Illinois</td>\n",
       "      <td>2015-05-16</td>\n",
       "      <td>P.s. I Love You</td>\n",
       "      <td>2015-06-08 12:26:10</td>\n",
       "    </tr>\n",
       "    <tr>\n",
       "      <th>4</th>\n",
       "      <td>SUKJCSBCYW</td>\n",
       "      <td>6</td>\n",
       "      <td>New Jersey</td>\n",
       "      <td>2015-05-01</td>\n",
       "      <td>Sgt. Pepper's Lonely Hearts Club Band</td>\n",
       "      <td>2015-06-28 14:57:00</td>\n",
       "    </tr>\n",
       "  </tbody>\n",
       "</table>\n",
       "</div>"
      ],
      "text/plain": [
       "           id  user_id  user_state user_sign_up_date  \\\n",
       "0  GOQMMKSQQH      122   Louisiana        2015-05-16   \n",
       "1  HWKKBQKNWI        3        Ohio        2015-05-01   \n",
       "2  DKQSXVNJDH       35  New Jersey        2015-05-04   \n",
       "3  HLHRIDQTUW      126    Illinois        2015-05-16   \n",
       "4  SUKJCSBCYW        6  New Jersey        2015-05-01   \n",
       "\n",
       "                             song_played          time_played  \n",
       "0                               Hey Jude  2015-06-11 21:51:35  \n",
       "1                     We Can Work It Out  2015-06-06 16:49:19  \n",
       "2                   Back In the U.S.S.R.  2015-06-14 02:11:29  \n",
       "3                        P.s. I Love You  2015-06-08 12:26:10  \n",
       "4  Sgt. Pepper's Lonely Hearts Club Band  2015-06-28 14:57:00  "
      ]
     },
     "execution_count": 3,
     "metadata": {},
     "output_type": "execute_result"
    }
   ],
   "source": [
    "data = pd.read_json('C:/Users/xiaoj/Desktop/CS/collection of data science-take home challenges/Data/8. song.json')\n",
    "data.head()"
   ]
  },
  {
   "cell_type": "code",
   "execution_count": 4,
   "metadata": {},
   "outputs": [
    {
     "name": "stdout",
     "output_type": "stream",
     "text": [
      "<class 'pandas.core.frame.DataFrame'>\n",
      "RangeIndex: 4000 entries, 0 to 3999\n",
      "Data columns (total 6 columns):\n",
      " #   Column             Non-Null Count  Dtype \n",
      "---  ------             --------------  ----- \n",
      " 0   id                 4000 non-null   object\n",
      " 1   user_id            4000 non-null   int64 \n",
      " 2   user_state         4000 non-null   object\n",
      " 3   user_sign_up_date  4000 non-null   object\n",
      " 4   song_played        4000 non-null   object\n",
      " 5   time_played        4000 non-null   object\n",
      "dtypes: int64(1), object(5)\n",
      "memory usage: 187.6+ KB\n"
     ]
    }
   ],
   "source": [
    "data.info()"
   ]
  },
  {
   "cell_type": "code",
   "execution_count": 5,
   "metadata": {},
   "outputs": [],
   "source": [
    "# transfer two time-related field from 'object' to time\n",
    "data['user_sign_up_date'] = pd.to_datetime(data['user_sign_up_date'])\n",
    "data['time_played'] = pd.to_datetime(data['time_played'])"
   ]
  },
  {
   "cell_type": "code",
   "execution_count": 6,
   "metadata": {},
   "outputs": [
    {
     "data": {
      "text/plain": [
       "id                   0\n",
       "user_id              0\n",
       "user_state           0\n",
       "user_sign_up_date    0\n",
       "song_played          0\n",
       "time_played          0\n",
       "dtype: int64"
      ]
     },
     "execution_count": 6,
     "metadata": {},
     "output_type": "execute_result"
    }
   ],
   "source": [
    "# check if there are any null or NaN values\n",
    "data.isnull().sum()"
   ]
  },
  {
   "cell_type": "code",
   "execution_count": 9,
   "metadata": {},
   "outputs": [
    {
     "data": {
      "text/plain": [
       "[97, 196, 41]"
      ]
     },
     "execution_count": 9,
     "metadata": {},
     "output_type": "execute_result"
    }
   ],
   "source": [
    "# check the unique values\n",
    "columns=['song_played','user_id','user_state']\n",
    "[data[column].nunique() for column in columns]"
   ]
  },
  {
   "cell_type": "markdown",
   "metadata": {},
   "source": [
    "<a id='Question1'></a>\n",
    "## Question 1\n",
    "What are the top 3 and the bottom 3 states in terms of number of users?"
   ]
  },
  {
   "cell_type": "code",
   "execution_count": 36,
   "metadata": {},
   "outputs": [
    {
     "data": {
      "text/plain": [
       "user_state\n",
       "New York          23\n",
       "California        21\n",
       "Texas             15\n",
       "Pennsylvania       9\n",
       "Ohio               9\n",
       "Florida            7\n",
       "Illinois           7\n",
       "Georgia            6\n",
       "New Jersey         6\n",
       "North Carolina     6\n",
       "Massachusetts      6\n",
       "Michigan           5\n",
       "Wisconsin          5\n",
       "Maryland           5\n",
       "Louisiana          5\n",
       "Missouri           5\n",
       "Tennessee          5\n",
       "Indiana            4\n",
       "Minnesota          4\n",
       "Alabama            4\n",
       "West Virginia      3\n",
       "Oregon             3\n",
       "Colorado           3\n",
       "Kentucky           3\n",
       "South Carolina     3\n",
       "Mississippi        3\n",
       "Oklahoma           2\n",
       "Utah               2\n",
       "Virginia           2\n",
       "Washington         2\n",
       "Arkansas           2\n",
       "Alaska             2\n",
       "North Dakota       1\n",
       "Kansas             1\n",
       "Iowa               1\n",
       "Rhode Island       1\n",
       "Nebraska           1\n",
       "Idaho              1\n",
       "Connecticut        1\n",
       "New Mexico         1\n",
       "Arizona            1\n",
       "Name: user_id, dtype: int64"
      ]
     },
     "execution_count": 36,
     "metadata": {},
     "output_type": "execute_result"
    }
   ],
   "source": [
    "# sort the state according to their corresponding user counts\n",
    "state_user_count = data.groupby('user_state')['user_id'].agg(lambda id:len(np.unique(id)))\n",
    "state_user_count.sort_values(inplace=True, ascending = False)\n",
    "state_user_count"
   ]
  },
  {
   "cell_type": "code",
   "execution_count": 29,
   "metadata": {},
   "outputs": [
    {
     "data": {
      "text/plain": [
       "user_state\n",
       "New York      23\n",
       "California    21\n",
       "Texas         15\n",
       "Name: user_id, dtype: int64"
      ]
     },
     "execution_count": 29,
     "metadata": {},
     "output_type": "execute_result"
    }
   ],
   "source": [
    "# Top 3 state \n",
    "state_user_count.iloc[:3]"
   ]
  },
  {
   "cell_type": "code",
   "execution_count": 37,
   "metadata": {},
   "outputs": [
    {
     "data": {
      "text/plain": [
       "user_state\n",
       "North Dakota    1\n",
       "Kansas          1\n",
       "Iowa            1\n",
       "Rhode Island    1\n",
       "Nebraska        1\n",
       "Idaho           1\n",
       "Connecticut     1\n",
       "New Mexico      1\n",
       "Arizona         1\n",
       "Name: user_id, dtype: int64"
      ]
     },
     "execution_count": 37,
     "metadata": {},
     "output_type": "execute_result"
    }
   ],
   "source": [
    "# Bottom 3 states, since the last 9 states has the same user counts, all of them have been shown here\n",
    "state_user_count.iloc[-9:]"
   ]
  },
  {
   "cell_type": "markdown",
   "metadata": {},
   "source": [
    "<a id='question2'></a>\n",
    "## Question 2"
   ]
  },
  {
   "cell_type": "code",
   "execution_count": null,
   "metadata": {},
   "outputs": [],
   "source": []
  }
 ],
 "metadata": {
  "kernelspec": {
   "display_name": "Python 3",
   "language": "python",
   "name": "python3"
  },
  "language_info": {
   "codemirror_mode": {
    "name": "ipython",
    "version": 3
   },
   "file_extension": ".py",
   "mimetype": "text/x-python",
   "name": "python",
   "nbconvert_exporter": "python",
   "pygments_lexer": "ipython3",
   "version": "3.8.3"
  }
 },
 "nbformat": 4,
 "nbformat_minor": 4
}
